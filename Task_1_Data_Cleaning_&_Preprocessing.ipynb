{
  "nbformat": 4,
  "nbformat_minor": 0,
  "metadata": {
    "colab": {
      "provenance": [],
      "authorship_tag": "ABX9TyPqhOpEF/0TQ+u12/kO5HmF",
      "include_colab_link": true
    },
    "kernelspec": {
      "name": "python3",
      "display_name": "Python 3"
    },
    "language_info": {
      "name": "python"
    }
  },
  "cells": [
    {
      "cell_type": "markdown",
      "metadata": {
        "id": "view-in-github",
        "colab_type": "text"
      },
      "source": [
        "<a href=\"https://colab.research.google.com/github/VeldiHruthika/Task-1-Data-Cleaning-Preprocessing/blob/main/Task_1_Data_Cleaning_%26_Preprocessing.ipynb\" target=\"_parent\"><img src=\"https://colab.research.google.com/assets/colab-badge.svg\" alt=\"Open In Colab\"/></a>"
      ]
    },
    {
      "cell_type": "markdown",
      "source": [
        "# **Import Required Libraries**"
      ],
      "metadata": {
        "id": "nxbGyDMT0wbU"
      }
    },
    {
      "cell_type": "code",
      "execution_count": null,
      "metadata": {
        "id": "OD9ZotdqtLc4"
      },
      "outputs": [],
      "source": [
        "# Import essential libraries\n",
        "import pandas as pd\n",
        "import numpy as np\n",
        "import matplotlib.pyplot as plt\n",
        "import seaborn as sns\n",
        "\n",
        "from sklearn.preprocessing import StandardScaler\n"
      ]
    },
    {
      "cell_type": "markdown",
      "source": [
        "# **Load the Dataset**"
      ],
      "metadata": {
        "id": "2B1Ze7cq2BWs"
      }
    },
    {
      "cell_type": "code",
      "source": [
        "# Load the Titanic dataset\n",
        "df = pd.read_csv('Titanic-Dataset.csv')\n",
        "\n",
        "# Display the first 5 rows\n",
        "print(df.head())"
      ],
      "metadata": {
        "colab": {
          "base_uri": "https://localhost:8080/"
        },
        "id": "v3oAVnqR1BRR",
        "outputId": "b13cc9b8-9626-432e-d622-6f4bb811b39c"
      },
      "execution_count": null,
      "outputs": [
        {
          "output_type": "stream",
          "name": "stdout",
          "text": [
            "   PassengerId  Survived  Pclass  \\\n",
            "0            1         0       3   \n",
            "1            2         1       1   \n",
            "2            3         1       3   \n",
            "3            4         1       1   \n",
            "4            5         0       3   \n",
            "\n",
            "                                                Name     Sex   Age  SibSp  \\\n",
            "0                            Braund, Mr. Owen Harris    male  22.0      1   \n",
            "1  Cumings, Mrs. John Bradley (Florence Briggs Th...  female  38.0      1   \n",
            "2                             Heikkinen, Miss. Laina  female  26.0      0   \n",
            "3       Futrelle, Mrs. Jacques Heath (Lily May Peel)  female  35.0      1   \n",
            "4                           Allen, Mr. William Henry    male  35.0      0   \n",
            "\n",
            "   Parch            Ticket     Fare Cabin Embarked  \n",
            "0      0         A/5 21171   7.2500   NaN        S  \n",
            "1      0          PC 17599  71.2833   C85        C  \n",
            "2      0  STON/O2. 3101282   7.9250   NaN        S  \n",
            "3      0            113803  53.1000  C123        S  \n",
            "4      0            373450   8.0500   NaN        S  \n"
          ]
        }
      ]
    },
    {
      "cell_type": "markdown",
      "source": [
        "# **Basic Information about the Dataset**"
      ],
      "metadata": {
        "id": "wwH22uU_2rr4"
      }
    },
    {
      "cell_type": "code",
      "source": [
        "# Dataset information: columns, non-null counts, data types\n",
        "print(df.info())"
      ],
      "metadata": {
        "colab": {
          "base_uri": "https://localhost:8080/"
        },
        "id": "GM99evqstnMd",
        "outputId": "31d2d3f0-275e-420a-ff0f-b26db2b02068"
      },
      "execution_count": null,
      "outputs": [
        {
          "output_type": "stream",
          "name": "stdout",
          "text": [
            "<class 'pandas.core.frame.DataFrame'>\n",
            "RangeIndex: 891 entries, 0 to 890\n",
            "Data columns (total 12 columns):\n",
            " #   Column       Non-Null Count  Dtype  \n",
            "---  ------       --------------  -----  \n",
            " 0   PassengerId  891 non-null    int64  \n",
            " 1   Survived     891 non-null    int64  \n",
            " 2   Pclass       891 non-null    int64  \n",
            " 3   Name         891 non-null    object \n",
            " 4   Sex          891 non-null    object \n",
            " 5   Age          714 non-null    float64\n",
            " 6   SibSp        891 non-null    int64  \n",
            " 7   Parch        891 non-null    int64  \n",
            " 8   Ticket       891 non-null    object \n",
            " 9   Fare         891 non-null    float64\n",
            " 10  Cabin        204 non-null    object \n",
            " 11  Embarked     889 non-null    object \n",
            "dtypes: float64(2), int64(5), object(5)\n",
            "memory usage: 83.7+ KB\n",
            "None\n"
          ]
        }
      ]
    },
    {
      "cell_type": "code",
      "source": [
        "# Statistical summary of numerical features\n",
        "print(df.describe())"
      ],
      "metadata": {
        "colab": {
          "base_uri": "https://localhost:8080/"
        },
        "id": "RWFk2O9e2-Wl",
        "outputId": "b3668ad0-44b1-4517-8569-7e968d8a941c"
      },
      "execution_count": null,
      "outputs": [
        {
          "output_type": "stream",
          "name": "stdout",
          "text": [
            "       PassengerId    Survived      Pclass         Age       SibSp  \\\n",
            "count   891.000000  891.000000  891.000000  714.000000  891.000000   \n",
            "mean    446.000000    0.383838    2.308642   29.699118    0.523008   \n",
            "std     257.353842    0.486592    0.836071   14.526497    1.102743   \n",
            "min       1.000000    0.000000    1.000000    0.420000    0.000000   \n",
            "25%     223.500000    0.000000    2.000000   20.125000    0.000000   \n",
            "50%     446.000000    0.000000    3.000000   28.000000    0.000000   \n",
            "75%     668.500000    1.000000    3.000000   38.000000    1.000000   \n",
            "max     891.000000    1.000000    3.000000   80.000000    8.000000   \n",
            "\n",
            "            Parch        Fare  \n",
            "count  891.000000  891.000000  \n",
            "mean     0.381594   32.204208  \n",
            "std      0.806057   49.693429  \n",
            "min      0.000000    0.000000  \n",
            "25%      0.000000    7.910400  \n",
            "50%      0.000000   14.454200  \n",
            "75%      0.000000   31.000000  \n",
            "max      6.000000  512.329200  \n"
          ]
        }
      ]
    },
    {
      "cell_type": "code",
      "source": [
        "# Checking for missing values in each column\n",
        "print(df.isnull().sum())"
      ],
      "metadata": {
        "colab": {
          "base_uri": "https://localhost:8080/"
        },
        "id": "zeOiFTcy3G16",
        "outputId": "79f58fcd-d4ab-4b77-d6e3-13ea3b0c618a"
      },
      "execution_count": null,
      "outputs": [
        {
          "output_type": "stream",
          "name": "stdout",
          "text": [
            "PassengerId      0\n",
            "Survived         0\n",
            "Pclass           0\n",
            "Name             0\n",
            "Sex              0\n",
            "Age            177\n",
            "SibSp            0\n",
            "Parch            0\n",
            "Ticket           0\n",
            "Fare             0\n",
            "Cabin          687\n",
            "Embarked         2\n",
            "dtype: int64\n"
          ]
        }
      ]
    },
    {
      "cell_type": "markdown",
      "source": [
        "# **Handling Missing Values**"
      ],
      "metadata": {
        "id": "noyQs-mn3gg5"
      }
    },
    {
      "cell_type": "code",
      "source": [
        "# Fill missing 'Age' values with median\n",
        "df['Age'].fillna(df['Age'].median(), inplace=True)\n",
        "\n",
        "# Fill missing 'Embarked' values with mode\n",
        "df['Embarked'].fillna(df['Embarked'].mode()[0], inplace=True)\n",
        "\n",
        "# Drop 'Cabin' column due to too many missing values\n",
        "df.drop('Cabin', axis=1, inplace=True)"
      ],
      "metadata": {
        "colab": {
          "base_uri": "https://localhost:8080/"
        },
        "id": "Nj-wXIyCtwmv",
        "outputId": "9f4f44c5-fb60-415d-ad35-a0286795e8ed"
      },
      "execution_count": null,
      "outputs": [
        {
          "output_type": "stream",
          "name": "stderr",
          "text": [
            "/tmp/ipython-input-43-2900892289.py:2: FutureWarning: A value is trying to be set on a copy of a DataFrame or Series through chained assignment using an inplace method.\n",
            "The behavior will change in pandas 3.0. This inplace method will never work because the intermediate object on which we are setting values always behaves as a copy.\n",
            "\n",
            "For example, when doing 'df[col].method(value, inplace=True)', try using 'df.method({col: value}, inplace=True)' or df[col] = df[col].method(value) instead, to perform the operation inplace on the original object.\n",
            "\n",
            "\n",
            "  df['Age'].fillna(df['Age'].median(), inplace=True)\n",
            "/tmp/ipython-input-43-2900892289.py:5: FutureWarning: A value is trying to be set on a copy of a DataFrame or Series through chained assignment using an inplace method.\n",
            "The behavior will change in pandas 3.0. This inplace method will never work because the intermediate object on which we are setting values always behaves as a copy.\n",
            "\n",
            "For example, when doing 'df[col].method(value, inplace=True)', try using 'df.method({col: value}, inplace=True)' or df[col] = df[col].method(value) instead, to perform the operation inplace on the original object.\n",
            "\n",
            "\n",
            "  df['Embarked'].fillna(df['Embarked'].mode()[0], inplace=True)\n"
          ]
        }
      ]
    },
    {
      "cell_type": "markdown",
      "source": [
        "# **Encoding Categorical Variables**"
      ],
      "metadata": {
        "id": "Az7vun_V4fMB"
      }
    },
    {
      "cell_type": "code",
      "source": [
        "# Convert 'Sex' column: male=0, female=1\n",
        "df['Sex'] = df['Sex'].map({'male': 0, 'female': 1})\n",
        "\n",
        "# One-Hot Encoding for 'Embarked'\n",
        "df = pd.get_dummies(df, columns=['Embarked'], drop_first=True)"
      ],
      "metadata": {
        "id": "YM_kmsTHtzfR"
      },
      "execution_count": null,
      "outputs": []
    },
    {
      "cell_type": "markdown",
      "source": [
        "# **Feature Scaling / Normalization**"
      ],
      "metadata": {
        "id": "DTPMuxct4sGF"
      }
    },
    {
      "cell_type": "code",
      "source": [
        "# Initialize the StandardScaler\n",
        "scaler = StandardScaler()\n",
        "\n",
        "# Apply scaling on 'Age' and 'Fare' features\n",
        "df[['Age', 'Fare']] = scaler.fit_transform(df[['Age', 'Fare']])"
      ],
      "metadata": {
        "id": "DhQ-b8bct2eE"
      },
      "execution_count": null,
      "outputs": []
    },
    {
      "cell_type": "markdown",
      "source": [
        "# **Outlier Detection using Boxplots**"
      ],
      "metadata": {
        "id": "CIliBFmy41V9"
      }
    },
    {
      "cell_type": "code",
      "source": [
        "# Set figure size for plots\n",
        "plt.figure(figsize=(10, 4))\n",
        "\n",
        "# Boxplot for 'Age'\n",
        "plt.subplot(1, 2, 1)\n",
        "sns.boxplot(y=df['Age'])\n",
        "plt.title('Age Outliers')\n",
        "\n",
        "# Boxplot for 'Fare'\n",
        "plt.subplot(1, 2, 2)\n",
        "sns.boxplot(y=df['Fare'])\n",
        "plt.title('Fare Outliers')\n",
        "\n",
        "plt.show()"
      ],
      "metadata": {
        "colab": {
          "base_uri": "https://localhost:8080/",
          "height": 372
        },
        "id": "N1_iM3Bzt4nC",
        "outputId": "69c8d9d9-bba3-4866-8b29-0286c1efe86d"
      },
      "execution_count": null,
      "outputs": [
        {
          "output_type": "display_data",
          "data": {
            "text/plain": [
              "<Figure size 1000x400 with 2 Axes>"
            ],
            "image/png": "[encoded data removed]"
          },
          "metadata": {}
        }
      ]
    },
    {
      "cell_type": "markdown",
      "source": [
        "# **Removing Outliers (Fare feature)**"
      ],
      "metadata": {
        "id": "4ppNTO6z462g"
      }
    },
    {
      "cell_type": "code",
      "source": [
        "# Calculate IQR for 'Fare' to identify outliers\n",
        "Q1 = df['Fare'].quantile(0.25)\n",
        "Q3 = df['Fare'].quantile(0.75)\n",
        "IQR = Q3 - Q1\n",
        "\n",
        "# Calculate lower and upper bounds\n",
        "lower_bound = Q1 - 1.5 * IQR\n",
        "upper_bound = Q3 + 1.5 * IQR\n",
        "\n",
        "# Remove rows where 'Fare' is an outlier\n",
        "df = df[(df['Fare'] >= lower_bound) & (df['Fare'] <= upper_bound)]"
      ],
      "metadata": {
        "id": "79ZkSe0vt6tI"
      },
      "execution_count": null,
      "outputs": []
    },
    {
      "cell_type": "markdown",
      "source": [
        "# **Final Cleaned Data Check**"
      ],
      "metadata": {
        "id": "j9ibahfr5KQo"
      }
    },
    {
      "cell_type": "code",
      "source": [
        "# Display first 5 rows of cleaned dataset\n",
        "print(df.head())\n",
        "\n",
        "# Dataset information after cleaning\n",
        "print(df.info())"
      ],
      "metadata": {
        "colab": {
          "base_uri": "https://localhost:8080/"
        },
        "id": "XNhFLNgG5BjR",
        "outputId": "a0864c3e-97ae-46d7-ffe9-bd3033b5400c"
      },
      "execution_count": null,
      "outputs": [
        {
          "output_type": "stream",
          "name": "stdout",
          "text": [
            "   PassengerId  Survived  Pclass  \\\n",
            "0            1         0       3   \n",
            "2            3         1       3   \n",
            "3            4         1       1   \n",
            "4            5         0       3   \n",
            "5            6         0       3   \n",
            "\n",
            "                                           Name  Sex       Age  SibSp  Parch  \\\n",
            "0                       Braund, Mr. Owen Harris    0 -0.565736      1      0   \n",
            "2                        Heikkinen, Miss. Laina    1 -0.258337      0      0   \n",
            "3  Futrelle, Mrs. Jacques Heath (Lily May Peel)    1  0.433312      1      0   \n",
            "4                      Allen, Mr. William Henry    0  0.433312      0      0   \n",
            "5                              Moran, Mr. James    0 -0.104637      0      0   \n",
            "\n",
            "             Ticket      Fare  Embarked_Q  Embarked_S  \n",
            "0         A/5 21171 -0.502445       False        True  \n",
            "2  STON/O2. 3101282 -0.488854       False        True  \n",
            "3            113803  0.420730       False        True  \n",
            "4            373450 -0.486337       False        True  \n",
            "5            330877 -0.478116        True       False  \n",
            "<class 'pandas.core.frame.DataFrame'>\n",
            "Index: 775 entries, 0 to 890\n",
            "Data columns (total 12 columns):\n",
            " #   Column       Non-Null Count  Dtype  \n",
            "---  ------       --------------  -----  \n",
            " 0   PassengerId  775 non-null    int64  \n",
            " 1   Survived     775 non-null    int64  \n",
            " 2   Pclass       775 non-null    int64  \n",
            " 3   Name         775 non-null    object \n",
            " 4   Sex          775 non-null    int64  \n",
            " 5   Age          775 non-null    float64\n",
            " 6   SibSp        775 non-null    int64  \n",
            " 7   Parch        775 non-null    int64  \n",
            " 8   Ticket       775 non-null    object \n",
            " 9   Fare         775 non-null    float64\n",
            " 10  Embarked_Q   775 non-null    bool   \n",
            " 11  Embarked_S   775 non-null    bool   \n",
            "dtypes: bool(2), float64(2), int64(6), object(2)\n",
            "memory usage: 68.1+ KB\n",
            "None\n"
          ]
        }
      ]
    }
  ]
}